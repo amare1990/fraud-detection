{
 "cells": [
  {
   "cell_type": "code",
   "execution_count": 1,
   "id": "2b4ffb65-6ac9-42d1-83c8-7fff28605d4f",
   "metadata": {},
   "outputs": [],
   "source": [
    "import os, sys\n",
    "curr_dir = os.getcwd()\n",
    "parent_dir = os.path.dirname(curr_dir)\n",
    "sys.path.insert(0, parent_dir)"
   ]
  },
  {
   "cell_type": "code",
   "execution_count": 2,
   "id": "a9f0ed10-3eec-4a50-a693-080fb4954ebe",
   "metadata": {},
   "outputs": [],
   "source": [
    "# Load data (in pandas) and assign the 'class' variable to the target_column\"\n",
    "import pandas as pd\n",
    "df = pd.read_csv('../data/processed_data.csv')\n",
    "target_column = \"class\""
   ]
  },
  {
   "cell_type": "code",
   "execution_count": null,
   "id": "166f50b4-c17f-4f73-aa95-cfbc50f78a49",
   "metadata": {},
   "outputs": [],
   "source": [
    "\"\"\"Pipelining all processes of model building, training and evaluation and to run automatically\"\"\"\n",
    "\n",
    "from scripts.model_training import FraudDetectionModel\n",
    "\n",
    "\"\"\"Pipelining all model building, training and evaluation processes.\"\"\"\n",
    "fraud_detector = FraudDetectionModel(df, target_column)\n",
    "\n",
    "fraud_detector.pipeline_model_training_processes()\n"
   ]
  },
  {
   "cell_type": "code",
   "execution_count": null,
   "id": "5cc0e1db-b2a5-43eb-9c9d-868116516043",
   "metadata": {},
   "outputs": [],
   "source": []
  }
 ],
 "metadata": {
  "kernelspec": {
   "display_name": "Python 3 (ipykernel)",
   "language": "python",
   "name": "python3"
  },
  "language_info": {
   "codemirror_mode": {
    "name": "ipython",
    "version": 3
   },
   "file_extension": ".py",
   "mimetype": "text/x-python",
   "name": "python",
   "nbconvert_exporter": "python",
   "pygments_lexer": "ipython3",
   "version": "3.8.10"
  }
 },
 "nbformat": 4,
 "nbformat_minor": 5
}
