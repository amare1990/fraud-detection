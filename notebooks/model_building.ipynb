{
 "cells": [
  {
   "cell_type": "code",
   "execution_count": 1,
   "id": "2b4ffb65-6ac9-42d1-83c8-7fff28605d4f",
   "metadata": {},
   "outputs": [],
   "source": [
    "import os, sys\n",
    "curr_dir = os.getcwd()\n",
    "parent_dir = os.path.dirname(curr_dir)\n",
    "sys.path.insert(0, parent_dir)"
   ]
  },
  {
   "cell_type": "code",
   "execution_count": 2,
   "id": "a9f0ed10-3eec-4a50-a693-080fb4954ebe",
   "metadata": {},
   "outputs": [],
   "source": [
    "# Load data (in pandas) and assign the 'class' variable to the target_column\"\n",
    "import pandas as pd\n",
    "df = pd.read_csv('../data/processed_data.csv')\n",
    "target_column = \"class\""
   ]
  },
  {
   "cell_type": "code",
   "execution_count": null,
   "id": "166f50b4-c17f-4f73-aa95-cfbc50f78a49",
   "metadata": {},
   "outputs": [
    {
     "name": "stdout",
     "output_type": "stream",
     "text": [
      "Data prepared: Train and test sets created.\n",
      "Training Logistic Regression...\n",
      "\n",
      "Logistic Regression Accuracy: 0.9049\n",
      "\n",
      "Logistic Regression Precision: 0.8760\n",
      "\n",
      "Logistic Regression Recall: 0.9049\n",
      "\n",
      "Logistic Regression F1-Score: 0.8599\n",
      "\n",
      "Logistic Regression Confusion Matrix:\n",
      "----------------------------------------\n",
      "[[22903     2]\n",
      " [ 2405     3]]\n",
      "----------------------------------------\n",
      "\n",
      "Logistic Regression class_report:\n",
      "              precision    recall  f1-score   support\n",
      "\n",
      "         0.0       0.90      1.00      0.95     22905\n",
      "         1.0       0.60      0.00      0.00      2408\n",
      "\n",
      "    accuracy                           0.90     25313\n",
      "   macro avg       0.75      0.50      0.48     25313\n",
      "weighted avg       0.88      0.90      0.86     25313\n",
      "\n",
      "Training Support Vector Machine...\n"
     ]
    }
   ],
   "source": [
    "\"\"\"Pipelining all processes of model building, training and evaluation and to run automatically\"\"\"\n",
    "\n",
    "from scripts.model_training import FraudDetectionModel\n",
    "\n",
    "\"\"\"Pipelining all model building, training and evaluation processes.\"\"\"\n",
    "fraud_detector = FraudDetectionModel(df, target_column)\n",
    "\n",
    "fraud_detector.pipeline_model_training_processes()\n"
   ]
  },
  {
   "cell_type": "code",
   "execution_count": null,
   "id": "5cc0e1db-b2a5-43eb-9c9d-868116516043",
   "metadata": {},
   "outputs": [],
   "source": []
  }
 ],
 "metadata": {
  "kernelspec": {
   "display_name": "Python 3 (ipykernel)",
   "language": "python",
   "name": "python3"
  },
  "language_info": {
   "codemirror_mode": {
    "name": "ipython",
    "version": 3
   },
   "file_extension": ".py",
   "mimetype": "text/x-python",
   "name": "python",
   "nbconvert_exporter": "python",
   "pygments_lexer": "ipython3",
   "version": "3.8.10"
  }
 },
 "nbformat": 4,
 "nbformat_minor": 5
}
