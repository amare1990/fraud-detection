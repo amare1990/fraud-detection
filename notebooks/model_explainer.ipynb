{
 "cells": [
  {
   "cell_type": "code",
   "execution_count": 1,
   "id": "a3ee5e30-629a-4483-aa3b-a02f0ed26a56",
   "metadata": {},
   "outputs": [],
   "source": [
    "import os, sys\n",
    "curr_dir = os.getcwd()\n",
    "parent_dir = os.path.dirname(curr_dir)\n",
    "sys.path.insert(0, parent_dir)"
   ]
  },
  {
   "cell_type": "code",
   "execution_count": 4,
   "id": "4e3d7969-604d-4610-8457-94e2a0d9a190",
   "metadata": {},
   "outputs": [],
   "source": [
    "# Ignore warnings\n",
    "import warnings\n",
    "warnings.filterwarnings('ignore')"
   ]
  },
  {
   "cell_type": "code",
   "execution_count": 5,
   "id": "f08df753-f9b6-41f1-802c-611fd96c02a2",
   "metadata": {},
   "outputs": [],
   "source": [
    "\"\"\"Pipelining model explainability\"\"\"\n",
    "\n",
    "import pickle\n",
    "import pandas as pd\n",
    "import torch  # Required for loading PyTorch models\n",
    "\n",
    "# Import DL models and their wrapper class\n",
    "from scripts.cnn import CNNModel\n",
    "from scripts.lstm import LSTMModel\n",
    "from scripts.rnn import RNNModel\n",
    "from scripts.dl_wrapper import ModelWrapper\n",
    "\n",
    "from scripts.model_explainability import ModelExplainability"
   ]
  },
  {
   "cell_type": "code",
   "execution_count": 6,
   "id": "a1fd940a-7a92-47f7-8380-129f0af973f3",
   "metadata": {},
   "outputs": [],
   "source": [
    "# Define models to load\n",
    "base_dir_models = \"../models\"\n",
    "model_paths = {\n",
    "    \"Logistic Regression\": f\"{base_dir_models}/Logistic Regression.pkl\",\n",
    "    \"Decision Tree\": f\"{base_dir_models}/Decision Tree.pkl\",\n",
    "    \"Random Forest\": f\"{base_dir_models}/Random Forest.pkl\",\n",
    "    \"Gradient Boosting\": f\"{base_dir_models}/Gradient Boosting.pkl\",\n",
    "    \"MLP\": f\"{base_dir_models}/MLP Classifier.pkl\",\n",
    "    \"CNN\": f\"{base_dir_models}/CNN.pth\",\n",
    "    \"LSTM\": f\"{base_dir_models}/LSTM.pth\",\n",
    "    \"RNN\": f\"{base_dir_models}/RNN.pth\"\n",
    "}"
   ]
  },
  {
   "cell_type": "code",
   "execution_count": 7,
   "id": "a147fb7a-486a-432c-8293-20ef8dd4e81e",
   "metadata": {},
   "outputs": [],
   "source": [
    "# Load dataset\n",
    "df = pd.read_csv(\n",
    "    \"../data/processed_data.csv\")\n",
    "target_column = \"class\"   # Change target_colimn into 'Class' for bank transaction data'"
   ]
  },
  {
   "cell_type": "code",
   "execution_count": 8,
   "id": "a883b549-0681-4bcb-8183-1c0deebee4b7",
   "metadata": {},
   "outputs": [],
   "source": [
    "# Prepare training and testing data\n",
    "X = df.drop(columns=[target_column])\n",
    "y = df[target_column]  # Of course, this data is not used here.\n",
    "X_train, X_test = X.iloc[:int(0.8 * len(X))], X.iloc[int(0.8 * len(X)):]\n",
    "# Ensures feature names match the dataset\n",
    "feature_names = X_train.columns.tolist()"
   ]
  },
  {
   "cell_type": "code",
   "execution_count": null,
   "id": "323a005b-d490-4ba8-a373-018710610375",
   "metadata": {},
   "outputs": [],
   "source": [
    "# Loop through each model and run explainability\n",
    "for model_name, path in model_paths.items():\n",
    "    print(f\"\\nLoading model: {model_name}...\")\n",
    "\n",
    "    # Load model\n",
    "    if path.endswith(\".pkl\"):  # Machine Learning models\n",
    "        with open(path, 'rb') as f:\n",
    "            model = pickle.load(f)\n",
    "    elif path.endswith(\".pth\"):  # Deep Learning models (PyTorch)\n",
    "\n",
    "        # You'll need to determine input_size\n",
    "        input_size = X_train.shape[1]\n",
    "\n",
    "        if model_name == 'CNN':\n",
    "            model = CNNModel(input_size)\n",
    "        elif model_name == 'LSTM':\n",
    "            model = LSTMModel(input_size)\n",
    "        elif model_name == 'RNN':\n",
    "            model = RNNModel(input_size)\n",
    "\n",
    "        state_dict = torch.load(path)  # Load state_dict\n",
    "        model.load_state_dict(state_dict)  # Load state_dict into the model\n",
    "        # Wrap the model to ensure predict_proba() exists\n",
    "        model = ModelWrapper(model)\n",
    "    else:\n",
    "        print(f\"Skipping unknown model format: {path}\")\n",
    "        continue\n",
    "\n",
    "    base_dir = \"\"\n",
    "\n",
    "    # Initialize explainability\n",
    "    explainer = ModelExplainability(\n",
    "        model, X_train, X_test, feature_names, base_dir=base_dir)\n",
    "\n",
    "    # SHAP Analysis\n",
    "    print(f\"Running SHAP for {model_name}...\")\n",
    "    explainer.shap_explain()\n",
    "\n",
    "    # LIME Analysis\n",
    "    print(f\"Running LIME for {model_name}...\")\n",
    "    explainer.lime_explain(sample_index=5)\n"
   ]
  }
 ],
 "metadata": {
  "kernelspec": {
   "display_name": "Python 3 (ipykernel)",
   "language": "python",
   "name": "python3"
  },
  "language_info": {
   "codemirror_mode": {
    "name": "ipython",
    "version": 3
   },
   "file_extension": ".py",
   "mimetype": "text/x-python",
   "name": "python",
   "nbconvert_exporter": "python",
   "pygments_lexer": "ipython3",
   "version": "3.10.16"
  }
 },
 "nbformat": 4,
 "nbformat_minor": 5
}
